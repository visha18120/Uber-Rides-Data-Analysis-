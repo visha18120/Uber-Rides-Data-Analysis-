{
 "cells": [
  {
   "cell_type": "raw",
   "id": "ed63e5f8-7430-45c2-83e8-e604caaf275c",
   "metadata": {},
   "source": [
    "PROJECT:UBER RIDES DATA ANALYSIS"
   ]
  },
  {
   "cell_type": "markdown",
   "id": "c7ac4a2b-609f-4b09-b9de-638483209edc",
   "metadata": {},
   "source": [
    "Introduction to Uber Rides Data Analysis"
   ]
  },
  {
   "cell_type": "raw",
   "id": "0f626c74-31c2-4a38-9a81-7b0219e65dbc",
   "metadata": {},
   "source": [
    "Uber, one of the largest ride-hailing companies globally, generates an enormous amount of data every day. This data can be incredibly valuable for a wide variety of analyses, such as understanding demand patterns, pricing strategies, driver performance, geographic hotspots, and much more. The goal of Uber rides data analysis is to extract insights that can help improve operational efficiency, optimize ride scheduling, predict demand, or inform business decisions.\n",
    "\n",
    "Uber rides data typically includes the following types of information:\n",
    "\n",
    "Trip details: information about individual rides, such as pickup and drop-off locations, ride duration, fare, distance, and the type of Uber service used (e.g., UberX, UberXL, etc.).\n",
    "Time details: timestamps of when rides were requested, picked up, and completed.\n",
    "Geographic data: location coordinates of the pickup and drop-off locations (often latitude and longitude).\n",
    "User/driver details: identifiers for both riders and drivers, ratings, and sometimes the payment method."
   ]
  },
  {
   "cell_type": "markdown",
   "id": "8dc70c0a-1671-4488-81d7-f9b53136404c",
   "metadata": {},
   "source": [
    "Why Analyze Uber Rides Data"
   ]
  },
  {
   "cell_type": "raw",
   "id": "260ef52a-9c64-4699-915a-bd464bbcd9ef",
   "metadata": {},
   "source": [
    "Demand Prediction: When and where are Uber rides most likely to be requested?\n",
    "Pricing Analysis: How do surge pricing and demand fluctuations affect the fare and driver incentives?\n",
    "Geospatial Insights: Where are high-demand areas or 'hotspots' for riders?\n",
    "Operational Efficiency: How can Uber optimize the dispatch system to reduce wait times for customers and idle times for drivers?\n",
    "Customer Experience: What factors contribute to higher or lower ratings for drivers and riders?\n",
    "Using Python, specifically libraries such as Pandas for data manipulation, Matplotlib and Seaborn for data visualization, and Scikit-learn for machine learning, you can gain valuable insights from the Uber rides data.\n",
    "\n",
    "In this guide, we'll walk through the general process of analyzing Uber rides data using Python, from data loading and cleaning to creating visualizations and extracting actionable insights.\n",
    "\n"
   ]
  },
  {
   "cell_type": "raw",
   "id": "098f37df-7466-43a7-8a29-cdbd4d38d1cb",
   "metadata": {},
   "source": [
    "Importing Libraries\n",
    "The analysis will be done using the following libraries : \n",
    "\n",
    "Pandas:  This library helps to load the data frame in a 2D array format and has multiple functions to perform analysis tasks in one go.\n",
    "Numpy: Numpy arrays are very fast and can perform large computations in a very short time.\n",
    "Matplotlib / Seaborn: This library is used to draw visualizations.\n",
    "To importing all these libraries, we can use the  below code :"
   ]
  },
  {
   "cell_type": "code",
   "execution_count": 4,
   "id": "afdf36aa-a4d1-481f-899e-19302d9ac33a",
   "metadata": {},
   "outputs": [],
   "source": [
    "import pandas as pd\n",
    "import numpy as np\n",
    "import matplotlib.pyplot as plt\n",
    "import seaborn as sns\n"
   ]
  },
  {
   "cell_type": "raw",
   "id": "b1ed13ea-80ed-4da2-9798-44f57a3b0526",
   "metadata": {},
   "source": [
    "Importing Dataset\n",
    "After importing all the libraries,  download the data using the link."
   ]
  },
  {
   "cell_type": "code",
   "execution_count": 6,
   "id": "263d2627-339b-4cfb-a764-d6c0c55df11b",
   "metadata": {},
   "outputs": [
    {
     "data": {
      "text/html": [
       "<div>\n",
       "<style scoped>\n",
       "    .dataframe tbody tr th:only-of-type {\n",
       "        vertical-align: middle;\n",
       "    }\n",
       "\n",
       "    .dataframe tbody tr th {\n",
       "        vertical-align: top;\n",
       "    }\n",
       "\n",
       "    .dataframe thead th {\n",
       "        text-align: right;\n",
       "    }\n",
       "</style>\n",
       "<table border=\"1\" class=\"dataframe\">\n",
       "  <thead>\n",
       "    <tr style=\"text-align: right;\">\n",
       "      <th></th>\n",
       "      <th>START_DATE</th>\n",
       "      <th>END_DATE</th>\n",
       "      <th>CATEGORY</th>\n",
       "      <th>START</th>\n",
       "      <th>STOP</th>\n",
       "      <th>MILES</th>\n",
       "      <th>PURPOSE</th>\n",
       "    </tr>\n",
       "  </thead>\n",
       "  <tbody>\n",
       "    <tr>\n",
       "      <th>0</th>\n",
       "      <td>01-01-2016 21:11</td>\n",
       "      <td>01-01-2016 21:17</td>\n",
       "      <td>Business</td>\n",
       "      <td>Fort Pierce</td>\n",
       "      <td>Fort Pierce</td>\n",
       "      <td>5.1</td>\n",
       "      <td>Meal/Entertain</td>\n",
       "    </tr>\n",
       "    <tr>\n",
       "      <th>1</th>\n",
       "      <td>01-02-2016 01:25</td>\n",
       "      <td>01-02-2016 01:37</td>\n",
       "      <td>Business</td>\n",
       "      <td>Fort Pierce</td>\n",
       "      <td>Fort Pierce</td>\n",
       "      <td>5.0</td>\n",
       "      <td>NaN</td>\n",
       "    </tr>\n",
       "    <tr>\n",
       "      <th>2</th>\n",
       "      <td>01-02-2016 20:25</td>\n",
       "      <td>01-02-2016 20:38</td>\n",
       "      <td>Business</td>\n",
       "      <td>Fort Pierce</td>\n",
       "      <td>Fort Pierce</td>\n",
       "      <td>4.8</td>\n",
       "      <td>Errand/Supplies</td>\n",
       "    </tr>\n",
       "    <tr>\n",
       "      <th>3</th>\n",
       "      <td>01-05-2016 17:31</td>\n",
       "      <td>01-05-2016 17:45</td>\n",
       "      <td>Business</td>\n",
       "      <td>Fort Pierce</td>\n",
       "      <td>Fort Pierce</td>\n",
       "      <td>4.7</td>\n",
       "      <td>Meeting</td>\n",
       "    </tr>\n",
       "    <tr>\n",
       "      <th>4</th>\n",
       "      <td>01-06-2016 14:42</td>\n",
       "      <td>01-06-2016 15:49</td>\n",
       "      <td>Business</td>\n",
       "      <td>Fort Pierce</td>\n",
       "      <td>West Palm Beach</td>\n",
       "      <td>63.7</td>\n",
       "      <td>Customer Visit</td>\n",
       "    </tr>\n",
       "  </tbody>\n",
       "</table>\n",
       "</div>"
      ],
      "text/plain": [
       "         START_DATE          END_DATE  CATEGORY        START             STOP  \\\n",
       "0  01-01-2016 21:11  01-01-2016 21:17  Business  Fort Pierce      Fort Pierce   \n",
       "1  01-02-2016 01:25  01-02-2016 01:37  Business  Fort Pierce      Fort Pierce   \n",
       "2  01-02-2016 20:25  01-02-2016 20:38  Business  Fort Pierce      Fort Pierce   \n",
       "3  01-05-2016 17:31  01-05-2016 17:45  Business  Fort Pierce      Fort Pierce   \n",
       "4  01-06-2016 14:42  01-06-2016 15:49  Business  Fort Pierce  West Palm Beach   \n",
       "\n",
       "   MILES          PURPOSE  \n",
       "0    5.1   Meal/Entertain  \n",
       "1    5.0              NaN  \n",
       "2    4.8  Errand/Supplies  \n",
       "3    4.7          Meeting  \n",
       "4   63.7   Customer Visit  "
      ]
     },
     "execution_count": 6,
     "metadata": {},
     "output_type": "execute_result"
    }
   ],
   "source": [
    "dataset = pd.read_csv(\"UberDataset.csv\")\n",
    "dataset.head()\n"
   ]
  },
  {
   "cell_type": "code",
   "execution_count": 8,
   "id": "411e4e66-054b-4425-8c45-8f94404090bb",
   "metadata": {},
   "outputs": [
    {
     "data": {
      "text/plain": [
       "(1156, 7)"
      ]
     },
     "execution_count": 8,
     "metadata": {},
     "output_type": "execute_result"
    }
   ],
   "source": [
    "dataset.shape\n"
   ]
  },
  {
   "cell_type": "code",
   "execution_count": 12,
   "id": "9febb704-9efb-476b-9fa0-75aedeee7995",
   "metadata": {},
   "outputs": [
    {
     "data": {
      "text/html": [
       "<div>\n",
       "<style scoped>\n",
       "    .dataframe tbody tr th:only-of-type {\n",
       "        vertical-align: middle;\n",
       "    }\n",
       "\n",
       "    .dataframe tbody tr th {\n",
       "        vertical-align: top;\n",
       "    }\n",
       "\n",
       "    .dataframe thead th {\n",
       "        text-align: right;\n",
       "    }\n",
       "</style>\n",
       "<table border=\"1\" class=\"dataframe\">\n",
       "  <thead>\n",
       "    <tr style=\"text-align: right;\">\n",
       "      <th></th>\n",
       "      <th>START_DATE</th>\n",
       "      <th>END_DATE</th>\n",
       "      <th>CATEGORY</th>\n",
       "      <th>START</th>\n",
       "      <th>STOP</th>\n",
       "      <th>MILES</th>\n",
       "      <th>PURPOSE</th>\n",
       "    </tr>\n",
       "  </thead>\n",
       "  <tbody>\n",
       "    <tr>\n",
       "      <th>0</th>\n",
       "      <td>01-01-2016 21:11</td>\n",
       "      <td>01-01-2016 21:17</td>\n",
       "      <td>Business</td>\n",
       "      <td>Fort Pierce</td>\n",
       "      <td>Fort Pierce</td>\n",
       "      <td>5.1</td>\n",
       "      <td>Meal/Entertain</td>\n",
       "    </tr>\n",
       "    <tr>\n",
       "      <th>1</th>\n",
       "      <td>01-02-2016 01:25</td>\n",
       "      <td>01-02-2016 01:37</td>\n",
       "      <td>Business</td>\n",
       "      <td>Fort Pierce</td>\n",
       "      <td>Fort Pierce</td>\n",
       "      <td>5.0</td>\n",
       "      <td>NaN</td>\n",
       "    </tr>\n",
       "    <tr>\n",
       "      <th>2</th>\n",
       "      <td>01-02-2016 20:25</td>\n",
       "      <td>01-02-2016 20:38</td>\n",
       "      <td>Business</td>\n",
       "      <td>Fort Pierce</td>\n",
       "      <td>Fort Pierce</td>\n",
       "      <td>4.8</td>\n",
       "      <td>Errand/Supplies</td>\n",
       "    </tr>\n",
       "    <tr>\n",
       "      <th>3</th>\n",
       "      <td>01-05-2016 17:31</td>\n",
       "      <td>01-05-2016 17:45</td>\n",
       "      <td>Business</td>\n",
       "      <td>Fort Pierce</td>\n",
       "      <td>Fort Pierce</td>\n",
       "      <td>4.7</td>\n",
       "      <td>Meeting</td>\n",
       "    </tr>\n",
       "    <tr>\n",
       "      <th>4</th>\n",
       "      <td>01-06-2016 14:42</td>\n",
       "      <td>01-06-2016 15:49</td>\n",
       "      <td>Business</td>\n",
       "      <td>Fort Pierce</td>\n",
       "      <td>West Palm Beach</td>\n",
       "      <td>63.7</td>\n",
       "      <td>Customer Visit</td>\n",
       "    </tr>\n",
       "  </tbody>\n",
       "</table>\n",
       "</div>"
      ],
      "text/plain": [
       "         START_DATE          END_DATE  CATEGORY        START             STOP  \\\n",
       "0  01-01-2016 21:11  01-01-2016 21:17  Business  Fort Pierce      Fort Pierce   \n",
       "1  01-02-2016 01:25  01-02-2016 01:37  Business  Fort Pierce      Fort Pierce   \n",
       "2  01-02-2016 20:25  01-02-2016 20:38  Business  Fort Pierce      Fort Pierce   \n",
       "3  01-05-2016 17:31  01-05-2016 17:45  Business  Fort Pierce      Fort Pierce   \n",
       "4  01-06-2016 14:42  01-06-2016 15:49  Business  Fort Pierce  West Palm Beach   \n",
       "\n",
       "   MILES          PURPOSE  \n",
       "0    5.1   Meal/Entertain  \n",
       "1    5.0              NaN  \n",
       "2    4.8  Errand/Supplies  \n",
       "3    4.7          Meeting  \n",
       "4   63.7   Customer Visit  "
      ]
     },
     "execution_count": 12,
     "metadata": {},
     "output_type": "execute_result"
    }
   ],
   "source": [
    "dataset.head()"
   ]
  },
  {
   "cell_type": "code",
   "execution_count": 14,
   "id": "41a86331-d77e-426e-b0f0-845feb0b9dc5",
   "metadata": {},
   "outputs": [
    {
     "data": {
      "text/html": [
       "<div>\n",
       "<style scoped>\n",
       "    .dataframe tbody tr th:only-of-type {\n",
       "        vertical-align: middle;\n",
       "    }\n",
       "\n",
       "    .dataframe tbody tr th {\n",
       "        vertical-align: top;\n",
       "    }\n",
       "\n",
       "    .dataframe thead th {\n",
       "        text-align: right;\n",
       "    }\n",
       "</style>\n",
       "<table border=\"1\" class=\"dataframe\">\n",
       "  <thead>\n",
       "    <tr style=\"text-align: right;\">\n",
       "      <th></th>\n",
       "      <th>START_DATE</th>\n",
       "      <th>END_DATE</th>\n",
       "      <th>CATEGORY</th>\n",
       "      <th>START</th>\n",
       "      <th>STOP</th>\n",
       "      <th>MILES</th>\n",
       "      <th>PURPOSE</th>\n",
       "    </tr>\n",
       "  </thead>\n",
       "  <tbody>\n",
       "    <tr>\n",
       "      <th>1151</th>\n",
       "      <td>12/31/2016 13:24</td>\n",
       "      <td>12/31/2016 13:42</td>\n",
       "      <td>Business</td>\n",
       "      <td>Kar?chi</td>\n",
       "      <td>Unknown Location</td>\n",
       "      <td>3.9</td>\n",
       "      <td>Temporary Site</td>\n",
       "    </tr>\n",
       "    <tr>\n",
       "      <th>1152</th>\n",
       "      <td>12/31/2016 15:03</td>\n",
       "      <td>12/31/2016 15:38</td>\n",
       "      <td>Business</td>\n",
       "      <td>Unknown Location</td>\n",
       "      <td>Unknown Location</td>\n",
       "      <td>16.2</td>\n",
       "      <td>Meeting</td>\n",
       "    </tr>\n",
       "    <tr>\n",
       "      <th>1153</th>\n",
       "      <td>12/31/2016 21:32</td>\n",
       "      <td>12/31/2016 21:50</td>\n",
       "      <td>Business</td>\n",
       "      <td>Katunayake</td>\n",
       "      <td>Gampaha</td>\n",
       "      <td>6.4</td>\n",
       "      <td>Temporary Site</td>\n",
       "    </tr>\n",
       "    <tr>\n",
       "      <th>1154</th>\n",
       "      <td>12/31/2016 22:08</td>\n",
       "      <td>12/31/2016 23:51</td>\n",
       "      <td>Business</td>\n",
       "      <td>Gampaha</td>\n",
       "      <td>Ilukwatta</td>\n",
       "      <td>48.2</td>\n",
       "      <td>Temporary Site</td>\n",
       "    </tr>\n",
       "    <tr>\n",
       "      <th>1155</th>\n",
       "      <td>Totals</td>\n",
       "      <td>NaN</td>\n",
       "      <td>NaN</td>\n",
       "      <td>NaN</td>\n",
       "      <td>NaN</td>\n",
       "      <td>12204.7</td>\n",
       "      <td>NaN</td>\n",
       "    </tr>\n",
       "  </tbody>\n",
       "</table>\n",
       "</div>"
      ],
      "text/plain": [
       "            START_DATE          END_DATE  CATEGORY             START  \\\n",
       "1151  12/31/2016 13:24  12/31/2016 13:42  Business           Kar?chi   \n",
       "1152  12/31/2016 15:03  12/31/2016 15:38  Business  Unknown Location   \n",
       "1153  12/31/2016 21:32  12/31/2016 21:50  Business        Katunayake   \n",
       "1154  12/31/2016 22:08  12/31/2016 23:51  Business           Gampaha   \n",
       "1155            Totals               NaN       NaN               NaN   \n",
       "\n",
       "                  STOP    MILES         PURPOSE  \n",
       "1151  Unknown Location      3.9  Temporary Site  \n",
       "1152  Unknown Location     16.2         Meeting  \n",
       "1153           Gampaha      6.4  Temporary Site  \n",
       "1154         Ilukwatta     48.2  Temporary Site  \n",
       "1155               NaN  12204.7             NaN  "
      ]
     },
     "execution_count": 14,
     "metadata": {},
     "output_type": "execute_result"
    }
   ],
   "source": [
    "dataset.tail()"
   ]
  },
  {
   "cell_type": "code",
   "execution_count": 16,
   "id": "93b94890-b91d-4b38-aa52-a8293dc726ac",
   "metadata": {},
   "outputs": [
    {
     "name": "stdout",
     "output_type": "stream",
     "text": [
      "<class 'pandas.core.frame.DataFrame'>\n",
      "RangeIndex: 1156 entries, 0 to 1155\n",
      "Data columns (total 7 columns):\n",
      " #   Column      Non-Null Count  Dtype  \n",
      "---  ------      --------------  -----  \n",
      " 0   START_DATE  1156 non-null   object \n",
      " 1   END_DATE    1155 non-null   object \n",
      " 2   CATEGORY    1155 non-null   object \n",
      " 3   START       1155 non-null   object \n",
      " 4   STOP        1155 non-null   object \n",
      " 5   MILES       1156 non-null   float64\n",
      " 6   PURPOSE     653 non-null    object \n",
      "dtypes: float64(1), object(6)\n",
      "memory usage: 63.3+ KB\n"
     ]
    }
   ],
   "source": [
    "dataset.info()\n"
   ]
  },
  {
   "cell_type": "raw",
   "id": "20f65511-7797-45d3-844b-490203f279c5",
   "metadata": {},
   "source": [
    "Data Preprocessing\n",
    "As we understood that there are a lot of null values in PURPOSE column, so for that we will me filling the null values with a NOT keyword. You can try something else too."
   ]
  },
  {
   "cell_type": "raw",
   "id": "d205cdad-0b47-456b-8b00-efee2eb6db11",
   "metadata": {},
   "source": [
    "Changing the START_DATE and END_DATE to the date_time format so that further it can be use to do analysis."
   ]
  },
  {
   "cell_type": "code",
   "execution_count": 50,
   "id": "7d94957b-c4db-47af-af92-7ce2aae864c8",
   "metadata": {},
   "outputs": [],
   "source": [
    "dataset['START_DATE'] = pd.to_datetime(dataset['START_DATE'], \n",
    "                                       errors='coerce')\n",
    "dataset['END_DATE'] = pd.to_datetime(dataset['END_DATE'], \n",
    "                                     errors='coerce')\n"
   ]
  },
  {
   "cell_type": "code",
   "execution_count": 52,
   "id": "2bf5624f-55d2-4234-a997-b6d15f9b0f02",
   "metadata": {},
   "outputs": [
    {
     "data": {
      "text/plain": [
       "0      2016-01-01 21:11:00\n",
       "1      2016-01-02 01:25:00\n",
       "2      2016-01-02 20:25:00\n",
       "3      2016-01-05 17:31:00\n",
       "4      2016-01-06 14:42:00\n",
       "               ...        \n",
       "1043   2016-12-12 13:22:00\n",
       "1044   2016-12-12 13:36:00\n",
       "1045   2016-12-12 14:26:00\n",
       "1046   2016-12-12 17:51:00\n",
       "1047   2016-12-12 20:48:00\n",
       "Name: START_DATE, Length: 413, dtype: datetime64[ns]"
      ]
     },
     "execution_count": 52,
     "metadata": {},
     "output_type": "execute_result"
    }
   ],
   "source": [
    "dataset['START_DATE'] "
   ]
  },
  {
   "cell_type": "raw",
   "id": "8df9a70a-50e4-420f-8652-73baa6c79cfd",
   "metadata": {},
   "source": [
    "Splitting the START_DATE to date and time column and then converting the time into four different categories i.e.\n",
    " Morning, Afternoon, Evening, Night"
   ]
  },
  {
   "cell_type": "code",
   "execution_count": 40,
   "id": "d1c18814-fb04-43d6-a139-6f919601e3cc",
   "metadata": {},
   "outputs": [],
   "source": [
    "from datetime import datetime\n",
    "\n",
    "dataset['date'] = pd.DatetimeIndex(dataset['START_DATE']).date\n",
    "dataset['time'] = pd.DatetimeIndex(dataset['START_DATE']).hour\n",
    "\n",
    "#changing into categories of day and night\n",
    "dataset['day-night'] = pd.cut(x=dataset['time'],\n",
    "                              bins = [0,10,15,19,24],\n",
    "                              labels = ['Morning','Afternoon','Evening','Night'])\n"
   ]
  },
  {
   "cell_type": "code",
   "execution_count": 54,
   "id": "1389e059-cee9-45fd-b112-5f3a27830b25",
   "metadata": {},
   "outputs": [
    {
     "data": {
      "text/plain": [
       "0           Night\n",
       "1         Morning\n",
       "2           Night\n",
       "3         Evening\n",
       "4       Afternoon\n",
       "          ...    \n",
       "1043    Afternoon\n",
       "1044    Afternoon\n",
       "1045    Afternoon\n",
       "1046      Evening\n",
       "1047        Night\n",
       "Name: day-night, Length: 413, dtype: category\n",
       "Categories (4, object): ['Morning' < 'Afternoon' < 'Evening' < 'Night']"
      ]
     },
     "execution_count": 54,
     "metadata": {},
     "output_type": "execute_result"
    }
   ],
   "source": [
    "dataset['day-night']"
   ]
  },
  {
   "cell_type": "code",
   "execution_count": 26,
   "id": "78c89eac-6053-43aa-81a1-f97aceca3b08",
   "metadata": {},
   "outputs": [],
   "source": [
    "dataset.dropna(inplace=True)\n"
   ]
  },
  {
   "cell_type": "code",
   "execution_count": 28,
   "id": "dc9624d7-4962-49a9-954b-95c1a5d52a22",
   "metadata": {},
   "outputs": [],
   "source": [
    "dataset.drop_duplicates(inplace=True)\n"
   ]
  },
  {
   "cell_type": "code",
   "execution_count": 30,
   "id": "8172a121-e9ca-4b5d-a945-6e74cc670d27",
   "metadata": {},
   "outputs": [
    {
     "data": {
      "text/plain": [
       "0      2016-01-01 21:11:00\n",
       "1      2016-01-02 01:25:00\n",
       "2      2016-01-02 20:25:00\n",
       "3      2016-01-05 17:31:00\n",
       "4      2016-01-06 14:42:00\n",
       "               ...        \n",
       "1043   2016-12-12 13:22:00\n",
       "1044   2016-12-12 13:36:00\n",
       "1045   2016-12-12 14:26:00\n",
       "1046   2016-12-12 17:51:00\n",
       "1047   2016-12-12 20:48:00\n",
       "Name: START_DATE, Length: 413, dtype: datetime64[ns]"
      ]
     },
     "execution_count": 30,
     "metadata": {},
     "output_type": "execute_result"
    }
   ],
   "source": [
    "dataset.START_DATE"
   ]
  },
  {
   "cell_type": "code",
   "execution_count": 32,
   "id": "7a6fa7eb-2bae-45e8-af9e-60b3d0b0618a",
   "metadata": {},
   "outputs": [
    {
     "data": {
      "text/plain": [
       "0      2016-01-01 21:17:00\n",
       "1      2016-01-02 01:37:00\n",
       "2      2016-01-02 20:38:00\n",
       "3      2016-01-05 17:45:00\n",
       "4      2016-01-06 15:49:00\n",
       "               ...        \n",
       "1043   2016-12-12 13:32:00\n",
       "1044   2016-12-12 13:51:00\n",
       "1045   2016-12-12 14:39:00\n",
       "1046   2016-12-12 18:01:00\n",
       "1047   2016-12-12 20:57:00\n",
       "Name: END_DATE, Length: 413, dtype: datetime64[ns]"
      ]
     },
     "execution_count": 32,
     "metadata": {},
     "output_type": "execute_result"
    }
   ],
   "source": [
    "dataset.END_DATE"
   ]
  },
  {
   "cell_type": "code",
   "execution_count": 34,
   "id": "324a3b57-b07a-40c5-9229-2a7e938c9256",
   "metadata": {},
   "outputs": [
    {
     "data": {
      "text/plain": [
       "0       Business\n",
       "1       Business\n",
       "2       Business\n",
       "3       Business\n",
       "4       Business\n",
       "          ...   \n",
       "1043    Business\n",
       "1044    Business\n",
       "1045    Business\n",
       "1046    Business\n",
       "1047    Business\n",
       "Name: CATEGORY, Length: 413, dtype: object"
      ]
     },
     "execution_count": 34,
     "metadata": {},
     "output_type": "execute_result"
    }
   ],
   "source": [
    "dataset.CATEGORY \t"
   ]
  },
  {
   "cell_type": "code",
   "execution_count": 36,
   "id": "7d2f35f6-3283-4b89-aa24-03d7415cb6aa",
   "metadata": {},
   "outputs": [
    {
     "data": {
      "text/plain": [
       "START_DATE    datetime64[ns]\n",
       "END_DATE      datetime64[ns]\n",
       "CATEGORY              object\n",
       "START                 object\n",
       "STOP                  object\n",
       "MILES                float64\n",
       "PURPOSE               object\n",
       "date                  object\n",
       "time                 float64\n",
       "day-night           category\n",
       "dtype: object"
      ]
     },
     "execution_count": 36,
     "metadata": {},
     "output_type": "execute_result"
    }
   ],
   "source": [
    "dataset.dtypes"
   ]
  },
  {
   "cell_type": "code",
   "execution_count": 38,
   "id": "514d0887-6577-44dd-a667-69b770e4ee19",
   "metadata": {},
   "outputs": [
    {
     "data": {
      "text/html": [
       "<div>\n",
       "<style scoped>\n",
       "    .dataframe tbody tr th:only-of-type {\n",
       "        vertical-align: middle;\n",
       "    }\n",
       "\n",
       "    .dataframe tbody tr th {\n",
       "        vertical-align: top;\n",
       "    }\n",
       "\n",
       "    .dataframe thead th {\n",
       "        text-align: right;\n",
       "    }\n",
       "</style>\n",
       "<table border=\"1\" class=\"dataframe\">\n",
       "  <thead>\n",
       "    <tr style=\"text-align: right;\">\n",
       "      <th></th>\n",
       "      <th>START_DATE</th>\n",
       "      <th>END_DATE</th>\n",
       "      <th>CATEGORY</th>\n",
       "      <th>START</th>\n",
       "      <th>STOP</th>\n",
       "      <th>MILES</th>\n",
       "      <th>PURPOSE</th>\n",
       "      <th>date</th>\n",
       "      <th>time</th>\n",
       "      <th>day-night</th>\n",
       "    </tr>\n",
       "  </thead>\n",
       "  <tbody>\n",
       "    <tr>\n",
       "      <th>0</th>\n",
       "      <td>2016-01-01 21:11:00</td>\n",
       "      <td>2016-01-01 21:17:00</td>\n",
       "      <td>Business</td>\n",
       "      <td>Fort Pierce</td>\n",
       "      <td>Fort Pierce</td>\n",
       "      <td>5.1</td>\n",
       "      <td>Meal/Entertain</td>\n",
       "      <td>2016-01-01</td>\n",
       "      <td>21.0</td>\n",
       "      <td>Night</td>\n",
       "    </tr>\n",
       "    <tr>\n",
       "      <th>1</th>\n",
       "      <td>2016-01-02 01:25:00</td>\n",
       "      <td>2016-01-02 01:37:00</td>\n",
       "      <td>Business</td>\n",
       "      <td>Fort Pierce</td>\n",
       "      <td>Fort Pierce</td>\n",
       "      <td>5.0</td>\n",
       "      <td>NOT</td>\n",
       "      <td>2016-01-02</td>\n",
       "      <td>1.0</td>\n",
       "      <td>Morning</td>\n",
       "    </tr>\n",
       "    <tr>\n",
       "      <th>2</th>\n",
       "      <td>2016-01-02 20:25:00</td>\n",
       "      <td>2016-01-02 20:38:00</td>\n",
       "      <td>Business</td>\n",
       "      <td>Fort Pierce</td>\n",
       "      <td>Fort Pierce</td>\n",
       "      <td>4.8</td>\n",
       "      <td>Errand/Supplies</td>\n",
       "      <td>2016-01-02</td>\n",
       "      <td>20.0</td>\n",
       "      <td>Night</td>\n",
       "    </tr>\n",
       "    <tr>\n",
       "      <th>3</th>\n",
       "      <td>2016-01-05 17:31:00</td>\n",
       "      <td>2016-01-05 17:45:00</td>\n",
       "      <td>Business</td>\n",
       "      <td>Fort Pierce</td>\n",
       "      <td>Fort Pierce</td>\n",
       "      <td>4.7</td>\n",
       "      <td>Meeting</td>\n",
       "      <td>2016-01-05</td>\n",
       "      <td>17.0</td>\n",
       "      <td>Evening</td>\n",
       "    </tr>\n",
       "    <tr>\n",
       "      <th>4</th>\n",
       "      <td>2016-01-06 14:42:00</td>\n",
       "      <td>2016-01-06 15:49:00</td>\n",
       "      <td>Business</td>\n",
       "      <td>Fort Pierce</td>\n",
       "      <td>West Palm Beach</td>\n",
       "      <td>63.7</td>\n",
       "      <td>Customer Visit</td>\n",
       "      <td>2016-01-06</td>\n",
       "      <td>14.0</td>\n",
       "      <td>Afternoon</td>\n",
       "    </tr>\n",
       "    <tr>\n",
       "      <th>...</th>\n",
       "      <td>...</td>\n",
       "      <td>...</td>\n",
       "      <td>...</td>\n",
       "      <td>...</td>\n",
       "      <td>...</td>\n",
       "      <td>...</td>\n",
       "      <td>...</td>\n",
       "      <td>...</td>\n",
       "      <td>...</td>\n",
       "      <td>...</td>\n",
       "    </tr>\n",
       "    <tr>\n",
       "      <th>1043</th>\n",
       "      <td>2016-12-12 13:22:00</td>\n",
       "      <td>2016-12-12 13:32:00</td>\n",
       "      <td>Business</td>\n",
       "      <td>Cary</td>\n",
       "      <td>Cary</td>\n",
       "      <td>3.1</td>\n",
       "      <td>Errand/Supplies</td>\n",
       "      <td>2016-12-12</td>\n",
       "      <td>13.0</td>\n",
       "      <td>Afternoon</td>\n",
       "    </tr>\n",
       "    <tr>\n",
       "      <th>1044</th>\n",
       "      <td>2016-12-12 13:36:00</td>\n",
       "      <td>2016-12-12 13:51:00</td>\n",
       "      <td>Business</td>\n",
       "      <td>Cary</td>\n",
       "      <td>Apex</td>\n",
       "      <td>4.4</td>\n",
       "      <td>Meal/Entertain</td>\n",
       "      <td>2016-12-12</td>\n",
       "      <td>13.0</td>\n",
       "      <td>Afternoon</td>\n",
       "    </tr>\n",
       "    <tr>\n",
       "      <th>1045</th>\n",
       "      <td>2016-12-12 14:26:00</td>\n",
       "      <td>2016-12-12 14:39:00</td>\n",
       "      <td>Business</td>\n",
       "      <td>Apex</td>\n",
       "      <td>Cary</td>\n",
       "      <td>4.7</td>\n",
       "      <td>Customer Visit</td>\n",
       "      <td>2016-12-12</td>\n",
       "      <td>14.0</td>\n",
       "      <td>Afternoon</td>\n",
       "    </tr>\n",
       "    <tr>\n",
       "      <th>1046</th>\n",
       "      <td>2016-12-12 17:51:00</td>\n",
       "      <td>2016-12-12 18:01:00</td>\n",
       "      <td>Business</td>\n",
       "      <td>Cary</td>\n",
       "      <td>Morrisville</td>\n",
       "      <td>3.0</td>\n",
       "      <td>Meal/Entertain</td>\n",
       "      <td>2016-12-12</td>\n",
       "      <td>17.0</td>\n",
       "      <td>Evening</td>\n",
       "    </tr>\n",
       "    <tr>\n",
       "      <th>1047</th>\n",
       "      <td>2016-12-12 20:48:00</td>\n",
       "      <td>2016-12-12 20:57:00</td>\n",
       "      <td>Business</td>\n",
       "      <td>Morrisville</td>\n",
       "      <td>Cary</td>\n",
       "      <td>3.0</td>\n",
       "      <td>Customer Visit</td>\n",
       "      <td>2016-12-12</td>\n",
       "      <td>20.0</td>\n",
       "      <td>Night</td>\n",
       "    </tr>\n",
       "  </tbody>\n",
       "</table>\n",
       "<p>413 rows × 10 columns</p>\n",
       "</div>"
      ],
      "text/plain": [
       "              START_DATE            END_DATE  CATEGORY        START  \\\n",
       "0    2016-01-01 21:11:00 2016-01-01 21:17:00  Business  Fort Pierce   \n",
       "1    2016-01-02 01:25:00 2016-01-02 01:37:00  Business  Fort Pierce   \n",
       "2    2016-01-02 20:25:00 2016-01-02 20:38:00  Business  Fort Pierce   \n",
       "3    2016-01-05 17:31:00 2016-01-05 17:45:00  Business  Fort Pierce   \n",
       "4    2016-01-06 14:42:00 2016-01-06 15:49:00  Business  Fort Pierce   \n",
       "...                  ...                 ...       ...          ...   \n",
       "1043 2016-12-12 13:22:00 2016-12-12 13:32:00  Business         Cary   \n",
       "1044 2016-12-12 13:36:00 2016-12-12 13:51:00  Business         Cary   \n",
       "1045 2016-12-12 14:26:00 2016-12-12 14:39:00  Business         Apex   \n",
       "1046 2016-12-12 17:51:00 2016-12-12 18:01:00  Business         Cary   \n",
       "1047 2016-12-12 20:48:00 2016-12-12 20:57:00  Business  Morrisville   \n",
       "\n",
       "                 STOP  MILES          PURPOSE        date  time  day-night  \n",
       "0         Fort Pierce    5.1   Meal/Entertain  2016-01-01  21.0      Night  \n",
       "1         Fort Pierce    5.0              NOT  2016-01-02   1.0    Morning  \n",
       "2         Fort Pierce    4.8  Errand/Supplies  2016-01-02  20.0      Night  \n",
       "3         Fort Pierce    4.7          Meeting  2016-01-05  17.0    Evening  \n",
       "4     West Palm Beach   63.7   Customer Visit  2016-01-06  14.0  Afternoon  \n",
       "...               ...    ...              ...         ...   ...        ...  \n",
       "1043             Cary    3.1  Errand/Supplies  2016-12-12  13.0  Afternoon  \n",
       "1044             Apex    4.4   Meal/Entertain  2016-12-12  13.0  Afternoon  \n",
       "1045             Cary    4.7   Customer Visit  2016-12-12  14.0  Afternoon  \n",
       "1046      Morrisville    3.0   Meal/Entertain  2016-12-12  17.0    Evening  \n",
       "1047             Cary    3.0   Customer Visit  2016-12-12  20.0      Night  \n",
       "\n",
       "[413 rows x 10 columns]"
      ]
     },
     "execution_count": 38,
     "metadata": {},
     "output_type": "execute_result"
    }
   ],
   "source": [
    "dataset"
   ]
  },
  {
   "cell_type": "code",
   "execution_count": 42,
   "id": "c4bd8aa3-b1b5-4519-97d4-b5325010f8f8",
   "metadata": {},
   "outputs": [
    {
     "data": {
      "text/plain": [
       "Index(['START_DATE', 'END_DATE', 'CATEGORY', 'START', 'STOP', 'MILES',\n",
       "       'PURPOSE', 'date', 'time', 'day-night'],\n",
       "      dtype='object')"
      ]
     },
     "execution_count": 42,
     "metadata": {},
     "output_type": "execute_result"
    }
   ],
   "source": [
    "dataset.columns"
   ]
  },
  {
   "cell_type": "code",
   "execution_count": 44,
   "id": "f5137f05-4a12-4c45-80fd-a18187266dd4",
   "metadata": {},
   "outputs": [
    {
     "data": {
      "text/plain": [
       "CATEGORY\n",
       "Business    400\n",
       "Personal     13\n",
       "Name: count, dtype: int64"
      ]
     },
     "execution_count": 44,
     "metadata": {},
     "output_type": "execute_result"
    }
   ],
   "source": [
    "dataset['CATEGORY'].value_counts()"
   ]
  },
  {
   "cell_type": "code",
   "execution_count": 48,
   "id": "5c7a5b87-875b-4a0a-b6ff-03bc6657edc4",
   "metadata": {},
   "outputs": [
    {
     "data": {
      "text/plain": [
       "0        Meal/Entertain\n",
       "1                   NOT\n",
       "2       Errand/Supplies\n",
       "3               Meeting\n",
       "4        Customer Visit\n",
       "             ...       \n",
       "1043    Errand/Supplies\n",
       "1044     Meal/Entertain\n",
       "1045     Customer Visit\n",
       "1046     Meal/Entertain\n",
       "1047     Customer Visit\n",
       "Name: PURPOSE, Length: 413, dtype: object"
      ]
     },
     "execution_count": 48,
     "metadata": {},
     "output_type": "execute_result"
    }
   ],
   "source": [
    "dataset['PURPOSE']"
   ]
  },
  {
   "cell_type": "markdown",
   "id": "1cd0db8f-ffde-4905-a032-88d27ea5de79",
   "metadata": {},
   "source": [
    "Data Visualization"
   ]
  },
  {
   "cell_type": "code",
   "execution_count": 57,
   "id": "a6c23972-08c2-40e8-8072-df08225efb77",
   "metadata": {},
   "outputs": [
    {
     "data": {
      "text/plain": [
       "{'CATEGORY': 2, 'START': 108, 'STOP': 112, 'PURPOSE': 7, 'date': 113}"
      ]
     },
     "execution_count": 57,
     "metadata": {},
     "output_type": "execute_result"
    }
   ],
   "source": [
    "obj = (dataset.dtypes == 'object')\n",
    "object_cols = list(obj[obj].index)\n",
    "\n",
    "unique_values = {}\n",
    "for col in object_cols:\n",
    "  unique_values[col] = dataset[col].unique().size\n",
    "unique_values\n"
   ]
  },
  {
   "cell_type": "raw",
   "id": "c263990e-eeae-4c6f-ab25-7e39cfb17c12",
   "metadata": {},
   "source": [
    "Now, we will be using matplotlib and seaborn library for countplot the CATEGORY and PURPOSE columns."
   ]
  },
  {
   "cell_type": "code",
   "execution_count": 63,
   "id": "9eee49bb-f71c-4526-a612-9e0141a9bd2d",
   "metadata": {},
   "outputs": [
    {
     "data": {
      "text/plain": [
       "(array([  0.,  50., 100., 150., 200.]),\n",
       " [Text(0.0, 0, '0'),\n",
       "  Text(50.0, 0, '50'),\n",
       "  Text(100.0, 0, '100'),\n",
       "  Text(150.0, 0, '150'),\n",
       "  Text(200.0, 0, '200')])"
      ]
     },
     "execution_count": 63,
     "metadata": {},
     "output_type": "execute_result"
    },
    {
     "data": {
      "image/png": "[encoded data removed]",
      "text/plain": [
       "<Figure size 600x400 with 2 Axes>"
      ]
     },
     "metadata": {},
     "output_type": "display_data"
    }
   ],
   "source": [
    "plt.figure(figsize=(6,4))\n",
    "\n",
    "plt.subplot(1,2,1)\n",
    "sns.countplot(dataset['CATEGORY'])\n",
    "plt.xticks(rotation=90)\n",
    "\n",
    "plt.subplot(1,2,2)\n",
    "sns.countplot(dataset['PURPOSE'])\n",
    "plt.xticks(rotation=90)\n"
   ]
  },
  {
   "cell_type": "code",
   "execution_count": 69,
   "id": "e4442656-f008-46fa-a6aa-0234d42c5aaa",
   "metadata": {},
   "outputs": [
    {
     "data": {
      "text/plain": [
       "(array([  0.,  20.,  40.,  60.,  80., 100., 120., 140., 160.]),\n",
       " [Text(0.0, 0, '0'),\n",
       "  Text(20.0, 0, '20'),\n",
       "  Text(40.0, 0, '40'),\n",
       "  Text(60.0, 0, '60'),\n",
       "  Text(80.0, 0, '80'),\n",
       "  Text(100.0, 0, '100'),\n",
       "  Text(120.0, 0, '120'),\n",
       "  Text(140.0, 0, '140'),\n",
       "  Text(160.0, 0, '160')])"
      ]
     },
     "execution_count": 69,
     "metadata": {},
     "output_type": "execute_result"
    },
    {
     "data": {
      "image/png": "[encoded data removed]",
      "text/plain": [
       "<Figure size 640x480 with 1 Axes>"
      ]
     },
     "metadata": {},
     "output_type": "display_data"
    }
   ],
   "source": [
    "sns.countplot(dataset['day-night'])\n",
    "plt.xticks(rotation=90)\n"
   ]
  },
  {
   "cell_type": "code",
   "execution_count": 73,
   "id": "ecdabd5b-05ae-4d40-a85f-b0c389178b0a",
   "metadata": {},
   "outputs": [
    {
     "data": {
      "image/png": "[encoded data removed]",
      "text/plain": [
       "<Figure size 800x500 with 1 Axes>"
      ]
     },
     "metadata": {},
     "output_type": "display_data"
    }
   ],
   "source": [
    "plt.figure(figsize=(8, 5))\n",
    "sns.countplot(data=dataset, x='PURPOSE', hue='CATEGORY')\n",
    "#plt.xticks(rotation=90)\n",
    "plt.show()\n"
   ]
  },
  {
   "cell_type": "markdown",
   "id": "4378c39d-4a47-4fec-a55e-f07ba7c0afd2",
   "metadata": {},
   "source": [
    "Insights from the above count-plots : \n",
    "Most of the rides are booked for business purpose.\n",
    "Most of the people book cabs for Meetings and Meal / Entertain purpose.\n",
    "Most of the cabs are booked in the time duration of 10am-5pm (Afternoon)."
   ]
  },
  {
   "cell_type": "code",
   "execution_count": 77,
   "id": "ab183508-63a8-4c82-a67b-acfe876ab796",
   "metadata": {},
   "outputs": [
    {
     "data": {
      "text/plain": [
       "<Axes: >"
      ]
     },
     "execution_count": 77,
     "metadata": {},
     "output_type": "execute_result"
    },
    {
     "data": {
      "image/png": "[encoded data removed]",
      "text/plain": [
       "<Figure size 640x480 with 2 Axes>"
      ]
     },
     "metadata": {},
     "output_type": "display_data"
    }
   ],
   "source": [
    "# Select only numerical columns for correlation calculation\n",
    "numeric_dataset = dataset.select_dtypes(include=['number'])\n",
    "\n",
    "sns.heatmap(numeric_dataset.corr(), \n",
    "            cmap='BrBG', \n",
    "            fmt='.2f', \n",
    "            linewidths=2, \n",
    "            annot=True)\n",
    "\n",
    "\n"
   ]
  },
  {
   "cell_type": "markdown",
   "id": "032eddb4-d2e6-42d2-a851-fd98ba8c3b36",
   "metadata": {},
   "source": [
    "Insights from the heatmap:\n",
    "Business and Personal Category are highly negatively correlated, this have already proven earlier. So this plot, justifies the above conclusions.\n",
    "There is not much correlation between the features."
   ]
  },
  {
   "cell_type": "code",
   "execution_count": 86,
   "id": "de7c3936-cf31-4ff8-b1e3-b128a97856d5",
   "metadata": {},
   "outputs": [],
   "source": [
    "dataset['DAY'] = dataset.START_DATE.dt.weekday\n",
    "day_label = {\n",
    "    0: 'Mon', 1: 'Tues', 2: 'Wed', 3: 'Thus', 4: 'Fri', 5: 'Sat', 6: 'Sun'\n",
    "}\n",
    "dataset['DAY'] = dataset['DAY'].map(day_label)\n"
   ]
  },
  {
   "cell_type": "code",
   "execution_count": 88,
   "id": "b81d42cc-705c-43ec-a558-0eaec35000c3",
   "metadata": {},
   "outputs": [
    {
     "data": {
      "text/plain": [
       "0        Fri\n",
       "1        Sat\n",
       "2        Sat\n",
       "3       Tues\n",
       "4        Wed\n",
       "        ... \n",
       "1043     Mon\n",
       "1044     Mon\n",
       "1045     Mon\n",
       "1046     Mon\n",
       "1047     Mon\n",
       "Name: DAY, Length: 413, dtype: object"
      ]
     },
     "execution_count": 88,
     "metadata": {},
     "output_type": "execute_result"
    }
   ],
   "source": [
    "dataset['DAY']"
   ]
  },
  {
   "cell_type": "code",
   "execution_count": 90,
   "id": "e7c1de79-c197-4847-9882-bebba8e8ba10",
   "metadata": {},
   "outputs": [
    {
     "data": {
      "text/plain": [
       "Text(0, 0.5, 'COUNT')"
      ]
     },
     "execution_count": 90,
     "metadata": {},
     "output_type": "execute_result"
    },
    {
     "data": {
      "image/png": "[encoded data removed]",
      "text/plain": [
       "<Figure size 640x480 with 1 Axes>"
      ]
     },
     "metadata": {},
     "output_type": "display_data"
    }
   ],
   "source": [
    "day_label = dataset.DAY.value_counts()\n",
    "sns.barplot(x=day_label.index, y=day_label);\n",
    "plt.xlabel('DAY')\n",
    "plt.ylabel('COUNT')\n"
   ]
  },
  {
   "cell_type": "code",
   "execution_count": 92,
   "id": "f32ebdd2-ea92-4cf9-8900-bc2de0a28b5b",
   "metadata": {},
   "outputs": [
    {
     "name": "stderr",
     "output_type": "stream",
     "text": [
      "C:\\Users\\ADMIN\\AppData\\Local\\Temp\\ipykernel_13896\\615779499.py:1: UserWarning: \n",
      "\n",
      "`distplot` is a deprecated function and will be removed in seaborn v0.14.0.\n",
      "\n",
      "Please adapt your code to use either `displot` (a figure-level function with\n",
      "similar flexibility) or `histplot` (an axes-level function for histograms).\n",
      "\n",
      "For a guide to updating your code to use the new functions, please see\n",
      "https://gist.github.com/mwaskom/de44147ed2974457ad6372750bbe5751\n",
      "\n",
      "  sns.distplot(dataset[dataset['MILES']<40]['MILES'])\n"
     ]
    },
    {
     "data": {
      "text/plain": [
       "<Axes: xlabel='MILES', ylabel='Density'>"
      ]
     },
     "execution_count": 92,
     "metadata": {},
     "output_type": "execute_result"
    },
    {
     "data": {
      "image/png": "[encoded data removed]",
      "text/plain": [
       "<Figure size 640x480 with 1 Axes>"
      ]
     },
     "metadata": {},
     "output_type": "display_data"
    }
   ],
   "source": [
    "sns.distplot(dataset[dataset['MILES']<40]['MILES'])\n"
   ]
  },
  {
   "cell_type": "markdown",
   "id": "cb8dac6c-b98a-484a-abdd-df43fd5ba6d3",
   "metadata": {},
   "source": [
    "INSIGHTS THIS CHART"
   ]
  },
  {
   "cell_type": "markdown",
   "id": "da01a626-af4b-4859-8d2f-84c3f7330b30",
   "metadata": {},
   "source": [
    "Insights from the above plots :\n",
    "Most of the cabs booked for the distance of 4-5 miles.\n",
    "Majorly people chooses cabs for the distance of 0-20 miles.\n",
    "For distance more than 20 miles cab counts is nearly negligible."
   ]
  },
  {
   "cell_type": "markdown",
   "id": "cf000fe8-ceb8-46da-94fb-f6ab3ec60f95",
   "metadata": {},
   "source": [
    "INSIGHTS\n",
    "\n",
    "In short, analyzing Uber rides data using Python can provide valuable insights into several key areas:\n",
    "\n",
    "Demand and Supply Patterns: Identify peak hours, days, and high-demand locations to optimize driver distribution and reduce wait times.\n",
    "Surge Pricing: Understand when and where surge pricing occurs, and its impact on customer behavior and ride cancellations.\n",
    "Driver Performance: Analyze ride duration, ratings, and driver availability to improve efficiency and driver incentives.\n",
    "Geospatial Insights: Visualize hotspots and high-demand areas to optimize service coverage and operational strategies.\n",
    "Customer Behavior: Study ride frequency, preferences, and cancellations to better serve different customer segments.\n",
    "Revenue Insights: Break down fare structures and driver earnings to assess financial efficiency.\n",
    "Forecasting: Predict future demand and pricing using time series models to improve planning and allocation."
   ]
  },
  {
   "cell_type": "raw",
   "id": "f5a52ede-c9bb-4496-b44d-dc77fe6a061e",
   "metadata": {},
   "source": [
    "conculsion\n",
    "Analyzing Uber rides data provides valuable insights into the various factors that influence the efficiency and effectiveness of the ride-hailing service. By leveraging Python and libraries like Pandas, Matplotlib, and Seaborn, you can uncover patterns in demand, driver performance, pricing strategies, and customer behavior.\n",
    "\n",
    "Key findings from the analysis can help Uber optimize:\n",
    "\n",
    "Ride allocation by predicting demand and identifying hotspots,\n",
    "Surge pricing strategies to balance supply and demand,\n",
    "Driver performance to ensure fair compensation and efficient routes,\n",
    "Customer experience by understanding ride preferences and improving service during peak times."
   ]
  }
 ],
 "metadata": {
  "kernelspec": {
   "display_name": "Python 3 (ipykernel)",
   "language": "python",
   "name": "python3"
  },
  "language_info": {
   "codemirror_mode": {
    "name": "ipython",
    "version": 3
   },
   "file_extension": ".py",
   "mimetype": "text/x-python",
   "name": "python",
   "nbconvert_exporter": "python",
   "pygments_lexer": "ipython3",
   "version": "3.12.4"
  }
 },
 "nbformat": 4,
 "nbformat_minor": 5
}
